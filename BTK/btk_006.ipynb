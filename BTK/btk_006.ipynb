{
 "cells": [
  {
   "cell_type": "code",
   "execution_count": 19,
   "id": "b1647193",
   "metadata": {},
   "outputs": [],
   "source": [
    "import pandas as pd\n",
    "import numpy  as np\n",
    "import matplotlib.pyplot as plt\n",
    "from IPython.core.interactiveshell import InteractiveShell\n",
    "import random\n",
    "InteractiveShell.ast_node_interactivity = \"all\""
   ]
  },
  {
   "cell_type": "code",
   "execution_count": 20,
   "id": "cc5c417d",
   "metadata": {},
   "outputs": [],
   "source": [
    "ads = pd.read_csv('data/Ads_CTR_Optimisation.csv')"
   ]
  },
  {
   "cell_type": "code",
   "execution_count": 21,
   "id": "3b2c89e5",
   "metadata": {},
   "outputs": [
    {
     "data": {
      "text/html": [
       "<div>\n",
       "<style scoped>\n",
       "    .dataframe tbody tr th:only-of-type {\n",
       "        vertical-align: middle;\n",
       "    }\n",
       "\n",
       "    .dataframe tbody tr th {\n",
       "        vertical-align: top;\n",
       "    }\n",
       "\n",
       "    .dataframe thead th {\n",
       "        text-align: right;\n",
       "    }\n",
       "</style>\n",
       "<table border=\"1\" class=\"dataframe\">\n",
       "  <thead>\n",
       "    <tr style=\"text-align: right;\">\n",
       "      <th></th>\n",
       "      <th>Ad 1</th>\n",
       "      <th>Ad 2</th>\n",
       "      <th>Ad 3</th>\n",
       "      <th>Ad 4</th>\n",
       "      <th>Ad 5</th>\n",
       "      <th>Ad 6</th>\n",
       "      <th>Ad 7</th>\n",
       "      <th>Ad 8</th>\n",
       "      <th>Ad 9</th>\n",
       "      <th>Ad 10</th>\n",
       "    </tr>\n",
       "  </thead>\n",
       "  <tbody>\n",
       "    <tr>\n",
       "      <th>0</th>\n",
       "      <td>1</td>\n",
       "      <td>0</td>\n",
       "      <td>0</td>\n",
       "      <td>0</td>\n",
       "      <td>1</td>\n",
       "      <td>0</td>\n",
       "      <td>0</td>\n",
       "      <td>0</td>\n",
       "      <td>1</td>\n",
       "      <td>0</td>\n",
       "    </tr>\n",
       "    <tr>\n",
       "      <th>1</th>\n",
       "      <td>0</td>\n",
       "      <td>0</td>\n",
       "      <td>0</td>\n",
       "      <td>0</td>\n",
       "      <td>0</td>\n",
       "      <td>0</td>\n",
       "      <td>0</td>\n",
       "      <td>0</td>\n",
       "      <td>1</td>\n",
       "      <td>0</td>\n",
       "    </tr>\n",
       "    <tr>\n",
       "      <th>2</th>\n",
       "      <td>0</td>\n",
       "      <td>0</td>\n",
       "      <td>0</td>\n",
       "      <td>0</td>\n",
       "      <td>0</td>\n",
       "      <td>0</td>\n",
       "      <td>0</td>\n",
       "      <td>0</td>\n",
       "      <td>0</td>\n",
       "      <td>0</td>\n",
       "    </tr>\n",
       "    <tr>\n",
       "      <th>3</th>\n",
       "      <td>0</td>\n",
       "      <td>1</td>\n",
       "      <td>0</td>\n",
       "      <td>0</td>\n",
       "      <td>0</td>\n",
       "      <td>0</td>\n",
       "      <td>0</td>\n",
       "      <td>1</td>\n",
       "      <td>0</td>\n",
       "      <td>0</td>\n",
       "    </tr>\n",
       "    <tr>\n",
       "      <th>4</th>\n",
       "      <td>0</td>\n",
       "      <td>0</td>\n",
       "      <td>0</td>\n",
       "      <td>0</td>\n",
       "      <td>0</td>\n",
       "      <td>0</td>\n",
       "      <td>0</td>\n",
       "      <td>0</td>\n",
       "      <td>0</td>\n",
       "      <td>0</td>\n",
       "    </tr>\n",
       "  </tbody>\n",
       "</table>\n",
       "</div>"
      ],
      "text/plain": [
       "   Ad 1  Ad 2  Ad 3  Ad 4  Ad 5  Ad 6  Ad 7  Ad 8  Ad 9  Ad 10\n",
       "0     1     0     0     0     1     0     0     0     1      0\n",
       "1     0     0     0     0     0     0     0     0     1      0\n",
       "2     0     0     0     0     0     0     0     0     0      0\n",
       "3     0     1     0     0     0     0     0     1     0      0\n",
       "4     0     0     0     0     0     0     0     0     0      0"
      ]
     },
     "execution_count": 21,
     "metadata": {},
     "output_type": "execute_result"
    }
   ],
   "source": [
    "df = ads.copy()\n",
    "df.head()"
   ]
  },
  {
   "cell_type": "markdown",
   "id": "9bb62adc",
   "metadata": {},
   "source": [
    "# Random Selection"
   ]
  },
  {
   "cell_type": "code",
   "execution_count": 26,
   "id": "af7fd76a",
   "metadata": {},
   "outputs": [
    {
     "data": {
      "text/plain": [
       "array([[1295, 1703, 1703, ..., 1703, 1295, 1703],\n",
       "       [1703, 1703, 1703, ..., 1703, 1295, 1703],\n",
       "       [1703, 1703, 1703, ..., 1703, 1703, 1703],\n",
       "       ...,\n",
       "       [1703, 1703, 1703, ..., 1703, 1703, 1703],\n",
       "       [1295, 1703, 1703, ..., 1295, 1703, 1703],\n",
       "       [1703, 1295, 1703, ..., 1703, 1703, 1703]])"
      ]
     },
     "execution_count": 26,
     "metadata": {},
     "output_type": "execute_result"
    }
   ],
   "source": [
    "N = 10000\n",
    "d = 10\n",
    "\n",
    "selecteds = []\n",
    "toplam = 0\n",
    "\n",
    "for n in range(N):\n",
    "    ad = random.randrange(d)\n",
    "    selecteds.append(ad)\n",
    "    odul= df.values[n, ads]\n",
    "    toplam += odul\n",
    "toplam"
   ]
  },
  {
   "cell_type": "markdown",
   "id": "e3496c82",
   "metadata": {},
   "source": [
    "# Upper Confidence Bound"
   ]
  },
  {
   "cell_type": "code",
   "execution_count": 38,
   "id": "7f8e7a87",
   "metadata": {},
   "outputs": [],
   "source": [
    "import math\n",
    "N = 10000 # Reklam tıklanma sayısı\n",
    "d = 10    # Toplam ilan sayısı\n",
    "\n",
    "selecteds = []\n",
    "    \n",
    "toplam     = 0  # Toplam odul\n",
    "\n",
    "# Ri(n)\n",
    "oduller    = [0] * d # ilk basta tum oduller sifir \n",
    "\n",
    "# Ni(n)\n",
    "tiklamalar = [0] * d # O ana kadar ki tiklanma adedi\n",
    "\n",
    "for n in range(N):\n",
    "    ad      = 0 # secilen ilan\n",
    "    max_ucb = 0\n",
    "    \n",
    "    for i in range(d):\n",
    "        \n",
    "        if (tiklamalar[i] > 0):\n",
    "            ortalama = oduller[i] / tiklamalar[i]\n",
    "            delta    = math.sqrt(3/2 * math.log(n) / tiklamalar[i])\n",
    "            ucb      = ortalama + delta\n",
    "        else:\n",
    "            ucb = N * 10\n",
    "            \n",
    "        if max_ucb < ucb:\n",
    "            max_ucb = ucb\n",
    "            ad = i\n",
    "    selecteds.append(ad)\n",
    "    tiklamalar[ad] += 1\n",
    "    odul    = df.values[n, ad]\n",
    "    oduller[ad]    += odul\n",
    "    toplam += odul"
   ]
  },
  {
   "cell_type": "code",
   "execution_count": 40,
   "id": "5f47e65a",
   "metadata": {},
   "outputs": [
    {
     "data": {
      "text/plain": [
       "2211"
      ]
     },
     "execution_count": 40,
     "metadata": {},
     "output_type": "execute_result"
    },
    {
     "data": {
      "text/plain": [
       "(array([ 502.,  364.,  278.,  317., 6434.,  147.,  326., 1130.,  331.,\n",
       "         171.]),\n",
       " array([0. , 0.9, 1.8, 2.7, 3.6, 4.5, 5.4, 6.3, 7.2, 8.1, 9. ]),\n",
       " <BarContainer object of 10 artists>)"
      ]
     },
     "execution_count": 40,
     "metadata": {},
     "output_type": "execute_result"
    },
    {
     "data": {
      "image/png": "[encoded data removed]",
      "text/plain": [
       "<Figure size 640x480 with 1 Axes>"
      ]
     },
     "metadata": {},
     "output_type": "display_data"
    }
   ],
   "source": [
    "toplam\n",
    "plt.hist(selecteds)\n",
    "plt.show()"
   ]
  },
  {
   "cell_type": "markdown",
   "id": "23c73a3c",
   "metadata": {},
   "source": [
    "# Thompson Sampling"
   ]
  },
  {
   "cell_type": "code",
   "execution_count": 41,
   "id": "565927cd",
   "metadata": {},
   "outputs": [],
   "source": [
    "import math\n",
    "N = 10000 # Reklam tıklanma sayısı\n",
    "d = 10    # Toplam ilan sayısı\n",
    "\n",
    "selecteds = []\n",
    "\n",
    "    \n",
    "toplam    = 0  # Toplam odul\n",
    "\n",
    "sifirlar  = [0] * d\n",
    "birler    = [0] * d\n",
    "\n",
    "for n in range(N):\n",
    "    max_ucb = 0\n",
    "    max_th  = 0 \n",
    "    for i in range(d):\n",
    "        rast_beta = random.betavariate(birler[i] + 1, sifirlar[i] + 1)\n",
    "        if rast_beta > max_th:\n",
    "            max_th = rast_beta\n",
    "            ad = i\n",
    "            \n",
    "    selecteds.append(ad)\n",
    "    odul    = df.values[n, ad]\n",
    "    \n",
    "    if odul == 1:\n",
    "        birler[ad]   += 1\n",
    "    else:\n",
    "        sifirlar[ad] += 1\n",
    "        \n",
    "    toplam += odul"
   ]
  },
  {
   "cell_type": "code",
   "execution_count": 43,
   "id": "ce6a4522",
   "metadata": {},
   "outputs": [
    {
     "data": {
      "text/plain": [
       "(array([ 176.,   67.,   46.,   58., 9212.,   24.,   75.,  242.,   68.,\n",
       "          32.]),\n",
       " array([0. , 0.9, 1.8, 2.7, 3.6, 4.5, 5.4, 6.3, 7.2, 8.1, 9. ]),\n",
       " <BarContainer object of 10 artists>)"
      ]
     },
     "execution_count": 43,
     "metadata": {},
     "output_type": "execute_result"
    },
    {
     "data": {
      "image/png": "[encoded data removed]",
      "text/plain": [
       "<Figure size 640x480 with 1 Axes>"
      ]
     },
     "metadata": {},
     "output_type": "display_data"
    }
   ],
   "source": [
    "plt.hist(selecteds)\n",
    "plt.show()"
   ]
  },
  {
   "cell_type": "code",
   "execution_count": null,
   "id": "4720159d",
   "metadata": {},
   "outputs": [],
   "source": []
  }
 ],
 "metadata": {
  "kernelspec": {
   "display_name": "Python 3 (ipykernel)",
   "language": "python",
   "name": "python3"
  },
  "language_info": {
   "codemirror_mode": {
    "name": "ipython",
    "version": 3
   },
   "file_extension": ".py",
   "mimetype": "text/x-python",
   "name": "python",
   "nbconvert_exporter": "python",
   "pygments_lexer": "ipython3",
   "version": "3.11.6"
  }
 },
 "nbformat": 4,
 "nbformat_minor": 5
}
