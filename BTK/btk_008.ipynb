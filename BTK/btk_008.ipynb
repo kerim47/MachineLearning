{
 "cells": [
  {
   "cell_type": "code",
   "execution_count": 40,
   "id": "8d4ba6d1",
   "metadata": {},
   "outputs": [],
   "source": [
    "import pandas as pd\n",
    "import numpy  as np\n",
    "import tensorflow as tf\n",
    "import matplotlib.pyplot as plt\n",
    "from IPython.core.interactiveshell import InteractiveShell as IS\n",
    "IS.ast_node_interactivity = \"all\""
   ]
  },
  {
   "cell_type": "code",
   "execution_count": 41,
   "id": "e40c59ca",
   "metadata": {},
   "outputs": [],
   "source": [
    "import pandas as pd\n",
    "churn = pd.read_csv('data/Churn_Modelling.csv')"
   ]
  },
  {
   "cell_type": "code",
   "execution_count": 42,
   "id": "3bb76a54",
   "metadata": {},
   "outputs": [
    {
     "data": {
      "text/html": [
       "<div>\n",
       "<style scoped>\n",
       "    .dataframe tbody tr th:only-of-type {\n",
       "        vertical-align: middle;\n",
       "    }\n",
       "\n",
       "    .dataframe tbody tr th {\n",
       "        vertical-align: top;\n",
       "    }\n",
       "\n",
       "    .dataframe thead th {\n",
       "        text-align: right;\n",
       "    }\n",
       "</style>\n",
       "<table border=\"1\" class=\"dataframe\">\n",
       "  <thead>\n",
       "    <tr style=\"text-align: right;\">\n",
       "      <th></th>\n",
       "      <th>RowNumber</th>\n",
       "      <th>CustomerId</th>\n",
       "      <th>Surname</th>\n",
       "      <th>CreditScore</th>\n",
       "      <th>Geography</th>\n",
       "      <th>Gender</th>\n",
       "      <th>Age</th>\n",
       "      <th>Tenure</th>\n",
       "      <th>Balance</th>\n",
       "      <th>NumOfProducts</th>\n",
       "      <th>HasCrCard</th>\n",
       "      <th>IsActiveMember</th>\n",
       "      <th>EstimatedSalary</th>\n",
       "      <th>Exited</th>\n",
       "    </tr>\n",
       "  </thead>\n",
       "  <tbody>\n",
       "    <tr>\n",
       "      <th>0</th>\n",
       "      <td>1</td>\n",
       "      <td>15634602</td>\n",
       "      <td>Hargrave</td>\n",
       "      <td>619</td>\n",
       "      <td>France</td>\n",
       "      <td>Female</td>\n",
       "      <td>42</td>\n",
       "      <td>2</td>\n",
       "      <td>0.00</td>\n",
       "      <td>1</td>\n",
       "      <td>1</td>\n",
       "      <td>1</td>\n",
       "      <td>101348.88</td>\n",
       "      <td>1</td>\n",
       "    </tr>\n",
       "    <tr>\n",
       "      <th>1</th>\n",
       "      <td>2</td>\n",
       "      <td>15647311</td>\n",
       "      <td>Hill</td>\n",
       "      <td>608</td>\n",
       "      <td>Spain</td>\n",
       "      <td>Female</td>\n",
       "      <td>41</td>\n",
       "      <td>1</td>\n",
       "      <td>83807.86</td>\n",
       "      <td>1</td>\n",
       "      <td>0</td>\n",
       "      <td>1</td>\n",
       "      <td>112542.58</td>\n",
       "      <td>0</td>\n",
       "    </tr>\n",
       "    <tr>\n",
       "      <th>2</th>\n",
       "      <td>3</td>\n",
       "      <td>15619304</td>\n",
       "      <td>Onio</td>\n",
       "      <td>502</td>\n",
       "      <td>France</td>\n",
       "      <td>Female</td>\n",
       "      <td>42</td>\n",
       "      <td>8</td>\n",
       "      <td>159660.80</td>\n",
       "      <td>3</td>\n",
       "      <td>1</td>\n",
       "      <td>0</td>\n",
       "      <td>113931.57</td>\n",
       "      <td>1</td>\n",
       "    </tr>\n",
       "    <tr>\n",
       "      <th>3</th>\n",
       "      <td>4</td>\n",
       "      <td>15701354</td>\n",
       "      <td>Boni</td>\n",
       "      <td>699</td>\n",
       "      <td>France</td>\n",
       "      <td>Female</td>\n",
       "      <td>39</td>\n",
       "      <td>1</td>\n",
       "      <td>0.00</td>\n",
       "      <td>2</td>\n",
       "      <td>0</td>\n",
       "      <td>0</td>\n",
       "      <td>93826.63</td>\n",
       "      <td>0</td>\n",
       "    </tr>\n",
       "    <tr>\n",
       "      <th>4</th>\n",
       "      <td>5</td>\n",
       "      <td>15737888</td>\n",
       "      <td>Mitchell</td>\n",
       "      <td>850</td>\n",
       "      <td>Spain</td>\n",
       "      <td>Female</td>\n",
       "      <td>43</td>\n",
       "      <td>2</td>\n",
       "      <td>125510.82</td>\n",
       "      <td>1</td>\n",
       "      <td>1</td>\n",
       "      <td>1</td>\n",
       "      <td>79084.10</td>\n",
       "      <td>0</td>\n",
       "    </tr>\n",
       "  </tbody>\n",
       "</table>\n",
       "</div>"
      ],
      "text/plain": [
       "   RowNumber  CustomerId   Surname  ...  IsActiveMember EstimatedSalary Exited\n",
       "0          1    15634602  Hargrave  ...               1       101348.88      1\n",
       "1          2    15647311      Hill  ...               1       112542.58      0\n",
       "2          3    15619304      Onio  ...               0       113931.57      1\n",
       "3          4    15701354      Boni  ...               0        93826.63      0\n",
       "4          5    15737888  Mitchell  ...               1        79084.10      0\n",
       "\n",
       "[5 rows x 14 columns]"
      ]
     },
     "execution_count": 42,
     "metadata": {},
     "output_type": "execute_result"
    }
   ],
   "source": [
    "df = churn.copy()\n",
    "df.head()"
   ]
  },
  {
   "cell_type": "code",
   "execution_count": 43,
   "id": "b49989f3",
   "metadata": {},
   "outputs": [
    {
     "data": {
      "text/plain": [
       "(      CreditScore Geography  Gender  ...  HasCrCard  IsActiveMember  EstimatedSalary\n",
       " 0             619    France  Female  ...          1               1        101348.88\n",
       " 1             608     Spain  Female  ...          0               1        112542.58\n",
       " 2             502    France  Female  ...          1               0        113931.57\n",
       " 3             699    France  Female  ...          0               0         93826.63\n",
       " 4             850     Spain  Female  ...          1               1         79084.10\n",
       " ...           ...       ...     ...  ...        ...             ...              ...\n",
       " 9995          771    France    Male  ...          1               0         96270.64\n",
       " 9996          516    France    Male  ...          1               1        101699.77\n",
       " 9997          709    France  Female  ...          0               1         42085.58\n",
       " 9998          772   Germany    Male  ...          1               0         92888.52\n",
       " 9999          792    France  Female  ...          1               0         38190.78\n",
       " \n",
       " [10000 rows x 10 columns],\n",
       " 0       1\n",
       " 1       0\n",
       " 2       1\n",
       " 3       0\n",
       " 4       0\n",
       "        ..\n",
       " 9995    0\n",
       " 9996    0\n",
       " 9997    1\n",
       " 9998    1\n",
       " 9999    0\n",
       " Name: Exited, Length: 10000, dtype: int64)"
      ]
     },
     "execution_count": 43,
     "metadata": {},
     "output_type": "execute_result"
    }
   ],
   "source": [
    "X = df.iloc[:, 3:13]\n",
    "Y = df.iloc[:, 13]\n",
    "X, Y"
   ]
  },
  {
   "cell_type": "code",
   "execution_count": 44,
   "id": "3432e453",
   "metadata": {},
   "outputs": [],
   "source": [
    "from sklearn.preprocessing import LabelEncoder\n",
    "le = LabelEncoder()\n",
    "X['Geography'] = le.fit_transform(X['Geography'])\n",
    "X['Gender']    = le.fit_transform(X['Gender'])"
   ]
  },
  {
   "cell_type": "code",
   "execution_count": 45,
   "id": "deb2e78b",
   "metadata": {},
   "outputs": [
    {
     "data": {
      "text/plain": [
       "CreditScore        0\n",
       "Geography          0\n",
       "Gender             0\n",
       "Age                0\n",
       "Tenure             0\n",
       "Balance            0\n",
       "NumOfProducts      0\n",
       "HasCrCard          0\n",
       "IsActiveMember     0\n",
       "EstimatedSalary    0\n",
       "dtype: int64"
      ]
     },
     "execution_count": 45,
     "metadata": {},
     "output_type": "execute_result"
    }
   ],
   "source": [
    "X.isna().sum()"
   ]
  },
  {
   "cell_type": "code",
   "execution_count": 46,
   "id": "20dce4e5",
   "metadata": {},
   "outputs": [],
   "source": [
    "from sklearn.preprocessing import OneHotEncoder\n",
    "from sklearn.compose       import ColumnTransformer\n",
    "ohe = ColumnTransformer([(\"ohe\", OneHotEncoder(dtype=float), [1])], remainder=\"passthrough\")\n",
    "\n",
    "X = ohe.fit_transform(X)\n",
    "X = X[:, 1:]"
   ]
  },
  {
   "cell_type": "code",
   "execution_count": 47,
   "id": "c4f3fdf9",
   "metadata": {},
   "outputs": [],
   "source": [
    "from sklearn.model_selection import train_test_split\n",
    "from sklearn.preprocessing   import StandardScaler"
   ]
  },
  {
   "cell_type": "code",
   "execution_count": 48,
   "id": "b29e89ef",
   "metadata": {},
   "outputs": [],
   "source": [
    "x_train, x_test, y_train, y_test = train_test_split(X, Y, test_size=0.33, random_state=0)\n",
    "sc = StandardScaler()\n",
    "X_train = sc.fit_transform(x_train)\n",
    "X_test  = sc.fit_transform(x_test)"
   ]
  },
  {
   "cell_type": "code",
   "execution_count": 49,
   "id": "b5f5a7c7",
   "metadata": {},
   "outputs": [
    {
     "data": {
      "text/plain": [
       "(array([[-0.56953701, -0.57436296, -1.78451879, ..., -1.56299709,\n",
       "         -1.03339307,  1.0890591 ],\n",
       "        [-0.56953701, -0.57436296,  1.47401668, ...,  0.63979645,\n",
       "          0.967686  , -0.4551902 ],\n",
       "        [-0.56953701, -0.57436296, -0.82854466, ..., -1.56299709,\n",
       "          0.967686  , -0.65446947],\n",
       "        ...,\n",
       "        [-0.56953701, -0.57436296,  0.89837634, ...,  0.63979645,\n",
       "         -1.03339307,  1.40745917],\n",
       "        [-0.56953701,  1.74105933, -0.62295883, ...,  0.63979645,\n",
       "          0.967686  ,  0.83939459],\n",
       "        [ 1.75581215, -0.57436296, -0.2837422 , ...,  0.63979645,\n",
       "         -1.03339307,  0.31973777]]),\n",
       " array([[ 1.67387076, -0.57268474, -0.55982398, ...,  0.65890748,\n",
       "          0.97545271,  1.62753708],\n",
       "        [-0.59741769, -0.57268474, -1.33593594, ...,  0.65890748,\n",
       "         -1.02516503,  0.51106949],\n",
       "        [-0.59741769,  1.74616143,  0.58336795, ...,  0.65890748,\n",
       "          0.97545271, -0.4108104 ],\n",
       "        ...,\n",
       "        [-0.59741769,  1.74616143,  0.35263197, ..., -1.51766376,\n",
       "         -1.02516503,  0.36457371],\n",
       "        [ 1.67387076, -0.57268474, -0.76958397, ..., -1.51766376,\n",
       "         -1.02516503,  0.44908773],\n",
       "        [-0.59741769, -0.57268474,  0.89800794, ..., -1.51766376,\n",
       "          0.97545271,  1.61499064]]))"
      ]
     },
     "execution_count": 49,
     "metadata": {},
     "output_type": "execute_result"
    }
   ],
   "source": [
    "X_train, X_test"
   ]
  },
  {
   "cell_type": "code",
   "execution_count": 77,
   "id": "ceb85912",
   "metadata": {},
   "outputs": [
    {
     "name": "stdout",
     "output_type": "stream",
     "text": [
      "Hello, TensorFlow!\n"
     ]
    }
   ],
   "source": [
    "import tensorflow as tf\n",
    "tf.compat.v1.disable_v2_behavior()\n",
    "\n",
    "hello = tf.constant('Hello, TensorFlow!')\n",
    "sess = tf.compat.v1.Session()\n",
    "print(sess.run(hello).decode())\n"
   ]
  },
  {
   "cell_type": "code",
   "execution_count": 51,
   "id": "3476cd5c",
   "metadata": {},
   "outputs": [],
   "source": [
    "import keras\n",
    "from keras.models import Sequential\n",
    "from keras.layers import Dense"
   ]
  },
  {
   "cell_type": "code",
   "execution_count": 67,
   "id": "a32cda23",
   "metadata": {},
   "outputs": [
    {
     "name": "stdout",
     "output_type": "stream",
     "text": [
      "Epoch 1/50\n",
      "210/210 [==============================] - 1s 828us/step - loss: 0.6181 - accuracy: 0.7967\n",
      "Epoch 2/50\n",
      "210/210 [==============================] - 1s 3ms/step - loss: 0.4450 - accuracy: 0.7979\n",
      "Epoch 3/50\n",
      "210/210 [==============================] - 1s 3ms/step - loss: 0.4317 - accuracy: 0.7979\n",
      "Epoch 4/50\n",
      "210/210 [==============================] - 1s 3ms/step - loss: 0.4290 - accuracy: 0.7979\n",
      "Epoch 5/50\n",
      "210/210 [==============================] - 1s 4ms/step - loss: 0.4277 - accuracy: 0.7979\n",
      "Epoch 6/50\n",
      "210/210 [==============================] - 1s 4ms/step - loss: 0.4265 - accuracy: 0.7979\n",
      "Epoch 7/50\n",
      "210/210 [==============================] - 1s 4ms/step - loss: 0.4255 - accuracy: 0.7979\n",
      "Epoch 8/50\n",
      "210/210 [==============================] - 1s 4ms/step - loss: 0.4245 - accuracy: 0.7979\n",
      "Epoch 9/50\n",
      "210/210 [==============================] - 1s 3ms/step - loss: 0.4233 - accuracy: 0.7979\n",
      "Epoch 10/50\n",
      "210/210 [==============================] - 1s 4ms/step - loss: 0.4221 - accuracy: 0.7979\n",
      "Epoch 11/50\n",
      "210/210 [==============================] - 1s 3ms/step - loss: 0.4209 - accuracy: 0.7985\n",
      "Epoch 12/50\n",
      "210/210 [==============================] - 1s 4ms/step - loss: 0.4194 - accuracy: 0.8093\n",
      "Epoch 13/50\n",
      "210/210 [==============================] - 1s 3ms/step - loss: 0.4183 - accuracy: 0.8173\n",
      "Epoch 14/50\n",
      "210/210 [==============================] - 1s 3ms/step - loss: 0.4160 - accuracy: 0.8236\n",
      "Epoch 15/50\n",
      "210/210 [==============================] - 1s 3ms/step - loss: 0.4143 - accuracy: 0.8266\n",
      "Epoch 16/50\n",
      "210/210 [==============================] - 1s 3ms/step - loss: 0.4121 - accuracy: 0.8278\n",
      "Epoch 17/50\n",
      "210/210 [==============================] - 1s 3ms/step - loss: 0.4102 - accuracy: 0.8312\n",
      "Epoch 18/50\n",
      "210/210 [==============================] - 1s 3ms/step - loss: 0.4086 - accuracy: 0.8309\n",
      "Epoch 19/50\n",
      "210/210 [==============================] - 1s 3ms/step - loss: 0.4072 - accuracy: 0.8321\n",
      "Epoch 20/50\n",
      "210/210 [==============================] - 1s 3ms/step - loss: 0.4060 - accuracy: 0.8330\n",
      "Epoch 21/50\n",
      "210/210 [==============================] - 1s 3ms/step - loss: 0.4048 - accuracy: 0.8333\n",
      "Epoch 22/50\n",
      "210/210 [==============================] - 1s 3ms/step - loss: 0.4033 - accuracy: 0.8348\n",
      "Epoch 23/50\n",
      "210/210 [==============================] - 1s 3ms/step - loss: 0.4027 - accuracy: 0.8360\n",
      "Epoch 24/50\n",
      "210/210 [==============================] - 1s 3ms/step - loss: 0.4015 - accuracy: 0.8361\n",
      "Epoch 25/50\n",
      "210/210 [==============================] - 1s 3ms/step - loss: 0.4008 - accuracy: 0.8340\n",
      "Epoch 26/50\n",
      "210/210 [==============================] - 1s 3ms/step - loss: 0.4002 - accuracy: 0.8346\n",
      "Epoch 27/50\n",
      "210/210 [==============================] - 1s 3ms/step - loss: 0.3998 - accuracy: 0.8348\n",
      "Epoch 28/50\n",
      "210/210 [==============================] - 1s 4ms/step - loss: 0.3991 - accuracy: 0.8349\n",
      "Epoch 29/50\n",
      "210/210 [==============================] - 1s 3ms/step - loss: 0.3988 - accuracy: 0.8355\n",
      "Epoch 30/50\n",
      "210/210 [==============================] - 1s 3ms/step - loss: 0.3981 - accuracy: 0.8348\n",
      "Epoch 31/50\n",
      "210/210 [==============================] - 1s 3ms/step - loss: 0.3979 - accuracy: 0.8355\n",
      "Epoch 32/50\n",
      "210/210 [==============================] - 1s 3ms/step - loss: 0.3973 - accuracy: 0.8360\n",
      "Epoch 33/50\n",
      "210/210 [==============================] - 1s 3ms/step - loss: 0.3970 - accuracy: 0.8370\n",
      "Epoch 34/50\n",
      "210/210 [==============================] - 1s 4ms/step - loss: 0.3969 - accuracy: 0.8348\n",
      "Epoch 35/50\n",
      "210/210 [==============================] - 1s 3ms/step - loss: 0.3965 - accuracy: 0.8352\n",
      "Epoch 36/50\n",
      "210/210 [==============================] - 1s 3ms/step - loss: 0.3960 - accuracy: 0.8357\n",
      "Epoch 37/50\n",
      "210/210 [==============================] - 1s 4ms/step - loss: 0.3963 - accuracy: 0.8352\n",
      "Epoch 38/50\n",
      "210/210 [==============================] - 1s 3ms/step - loss: 0.3955 - accuracy: 0.8342\n",
      "Epoch 39/50\n",
      "210/210 [==============================] - 1s 3ms/step - loss: 0.3953 - accuracy: 0.8355\n",
      "Epoch 40/50\n",
      "210/210 [==============================] - 1s 4ms/step - loss: 0.3955 - accuracy: 0.8358\n",
      "Epoch 41/50\n",
      "210/210 [==============================] - 1s 3ms/step - loss: 0.3950 - accuracy: 0.8352\n",
      "Epoch 42/50\n",
      "210/210 [==============================] - 1s 3ms/step - loss: 0.3945 - accuracy: 0.8370\n",
      "Epoch 43/50\n",
      "210/210 [==============================] - 1s 4ms/step - loss: 0.3942 - accuracy: 0.8361\n",
      "Epoch 44/50\n",
      "210/210 [==============================] - 1s 3ms/step - loss: 0.3944 - accuracy: 0.8355\n",
      "Epoch 45/50\n",
      "210/210 [==============================] - 1s 4ms/step - loss: 0.3943 - accuracy: 0.8360\n",
      "Epoch 46/50\n",
      "210/210 [==============================] - 1s 4ms/step - loss: 0.3941 - accuracy: 0.8361\n",
      "Epoch 47/50\n",
      "210/210 [==============================] - 1s 3ms/step - loss: 0.3939 - accuracy: 0.8364\n",
      "Epoch 48/50\n",
      "210/210 [==============================] - 1s 3ms/step - loss: 0.3938 - accuracy: 0.8348\n",
      "Epoch 49/50\n",
      "210/210 [==============================] - 1s 3ms/step - loss: 0.3935 - accuracy: 0.8352\n",
      "Epoch 50/50\n",
      "210/210 [==============================] - 1s 3ms/step - loss: 0.3933 - accuracy: 0.8354\n"
     ]
    },
    {
     "data": {
      "text/plain": [
       "<keras.src.callbacks.History at 0x7f23627a6a10>"
      ]
     },
     "execution_count": 67,
     "metadata": {},
     "output_type": "execute_result"
    }
   ],
   "source": [
    "classifier = Sequential() \n",
    "# Başlamgıc katmanı ilk olarak eklenmeli\n",
    "classifier.add(Dense(6, kernel_initializer=\"uniform\", activation =\"relu\", input_dim = 11)) # input layer\n",
    "classifier.add(Dense(6, kernel_initializer=\"uniform\", activation =\"relu\"))\n",
    "classifier.add(Dense(1, kernel_initializer=\"uniform\", activation =\"sigmoid\")) # Output layer\n",
    "classifier.compile(optimizer='adam', loss='binary_crossentropy', metrics=['accuracy'])\n",
    "classifier.fit(X_train, y_train, epochs=50)"
   ]
  },
  {
   "cell_type": "code",
   "execution_count": 68,
   "id": "e7e7727e",
   "metadata": {},
   "outputs": [
    {
     "name": "stdout",
     "output_type": "stream",
     "text": [
      "104/104 [==============================] - 0s 2ms/step\n"
     ]
    }
   ],
   "source": [
    "y_pred = classifier.predict(X_test)"
   ]
  },
  {
   "cell_type": "code",
   "execution_count": 69,
   "id": "1cea1d0b",
   "metadata": {},
   "outputs": [],
   "source": [
    "y_pred = (y_pred > 0.5).astype(int)"
   ]
  },
  {
   "cell_type": "code",
   "execution_count": 70,
   "id": "99490559",
   "metadata": {},
   "outputs": [
    {
     "data": {
      "text/plain": [
       "array([[2533,   84],\n",
       "       [ 452,  231]])"
      ]
     },
     "execution_count": 70,
     "metadata": {},
     "output_type": "execute_result"
    }
   ],
   "source": [
    "from sklearn.metrics import confusion_matrix\n",
    "cm = confusion_matrix(y_test, y_pred)\n",
    "cm."
   ]
  },
  {
   "cell_type": "code",
   "execution_count": 81,
   "id": "dcdc8763",
   "metadata": {},
   "outputs": [
    {
     "name": "stdout",
     "output_type": "stream",
     "text": [
      "--2023-10-27 11:40:02--  http://install/\n",
      "Resolving install (install)... failed: Temporary failure in name resolution.\n",
      "wget: unable to resolve host address ‘install’\n",
      "--2023-10-27 11:40:02--  https://bilkav.com/Wine.csv\n",
      "Resolving bilkav.com (bilkav.com)... 191.101.228.254\n",
      "Connecting to bilkav.com (bilkav.com)|191.101.228.254|:443... connected.\n",
      "HTTP request sent, awaiting response... 200 OK\n",
      "Length: unspecified [text/plain]\n",
      "Saving to: ‘Wine.csv’\n",
      "\n",
      "Wine.csv                [ <=>                ]  11.20K  --.-KB/s    in 0.04s   \n",
      "\n",
      "2023-10-27 11:40:07 (286 KB/s) - ‘Wine.csv’ saved [11464]\n",
      "\n",
      "FINISHED --2023-10-27 11:40:07--\n",
      "Total wall clock time: 4.6s\n",
      "Downloaded: 1 files, 11K in 0.04s (286 KB/s)\n"
     ]
    }
   ],
   "source": [
    "# %cd data\n",
    "# %ls\n",
    "!wget install https://bilkav.com/Wine.csv"
   ]
  },
  {
   "cell_type": "code",
   "execution_count": 91,
   "id": "69de8278",
   "metadata": {},
   "outputs": [
    {
     "name": "stdout",
     "output_type": "stream",
     "text": [
      "--2023-10-27 11:43:01--  https://bilkav.com/Wine.csv\n",
      "Resolving bilkav.com (bilkav.com)... 179.61.189.21\n",
      "Connecting to bilkav.com (bilkav.com)|179.61.189.21|:443... connected.\n",
      "HTTP request sent, awaiting response... 200 OK\n",
      "Length: unspecified [text/plain]\n",
      "Saving to: ‘data/Wine.csv’\n",
      "\n",
      "data/Wine.csv           [ <=>                ]  11.20K  --.-KB/s    in 0.05s   \n",
      "\n",
      "2023-10-27 11:43:05 (235 KB/s) - ‘data/Wine.csv’ saved [11464]\n",
      "\n"
     ]
    }
   ],
   "source": [
    "!wget https://bilkav.com/Wine.csv -O data/Wine.csv"
   ]
  },
  {
   "cell_type": "code",
   "execution_count": 92,
   "id": "6f203240",
   "metadata": {},
   "outputs": [
    {
     "name": "stdout",
     "output_type": "stream",
     "text": [
      "Ads_CTR_Optimisation.csv  maaslar_yeni.csv\t  sepet.csv\r\n",
      "Churn_Modelling.csv\t  musteriler.csv\t  veriler.csv\r\n",
      "maaslar.csv\t\t  Restaurant_Reviews.csv  Wine.csv\r\n"
     ]
    }
   ],
   "source": [
    "!ls data/"
   ]
  },
  {
   "cell_type": "code",
   "execution_count": null,
   "id": "ae97cae9",
   "metadata": {},
   "outputs": [],
   "source": []
  }
 ],
 "metadata": {
  "kernelspec": {
   "display_name": "Python 3 (ipykernel)",
   "language": "python",
   "name": "python3"
  },
  "language_info": {
   "codemirror_mode": {
    "name": "ipython",
    "version": 3
   },
   "file_extension": ".py",
   "mimetype": "text/x-python",
   "name": "python",
   "nbconvert_exporter": "python",
   "pygments_lexer": "ipython3",
   "version": "3.11.6"
  }
 },
 "nbformat": 4,
 "nbformat_minor": 5
}
